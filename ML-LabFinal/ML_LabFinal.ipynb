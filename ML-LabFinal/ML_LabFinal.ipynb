{
  "nbformat": 4,
  "nbformat_minor": 0,
  "metadata": {
    "colab": {
      "provenance": [],
      "authorship_tag": "ABX9TyP0rUDA95gRH1y4+XRpsjXV",
      "include_colab_link": true
    },
    "kernelspec": {
      "name": "python3",
      "display_name": "Python 3"
    },
    "language_info": {
      "name": "python"
    },
    "accelerator": "GPU",
    "gpuClass": "standard"
  },
  "cells": [
    {
      "cell_type": "markdown",
      "metadata": {
        "id": "view-in-github",
        "colab_type": "text"
      },
      "source": [
        "<a href=\"https://colab.research.google.com/github/Tasniyaa/ML-Assignment/blob/main/ML_LabFinal.ipynb\" target=\"_parent\"><img src=\"https://colab.research.google.com/assets/colab-badge.svg\" alt=\"Open In Colab\"/></a>"
      ]
    },
    {
      "cell_type": "code",
      "source": [
        "import tensorflow as tf\n",
        "import matplotlib.pyplot as plt\n",
        "from keras.models import Sequential\n",
        "from keras.layers import Dense,Flatten,MaxPool2D,Convolution2D\n",
        "from keras.preprocessing.image import ImageDataGenerator\n"
      ],
      "metadata": {
        "id": "nLDQ9LBpz_RG"
      },
      "execution_count": 30,
      "outputs": []
    },
    {
      "cell_type": "code",
      "source": [
        "from google.colab import drive\n",
        "drive.mount('/content/drive')"
      ],
      "metadata": {
        "colab": {
          "base_uri": "https://localhost:8080/"
        },
        "id": "vwNdb4HVz_3W",
        "outputId": "590f4bf7-dd2e-426d-ea3e-c6f5c703b019"
      },
      "execution_count": 33,
      "outputs": [
        {
          "output_type": "stream",
          "name": "stdout",
          "text": [
            "Drive already mounted at /content/drive; to attempt to forcibly remount, call drive.mount(\"/content/drive\", force_remount=True).\n"
          ]
        }
      ]
    },
    {
      "cell_type": "code",
      "source": [
        "from zipfile import ZipFile\n",
        "with ZipFile ('/content/drive/MyDrive/CNN_dataset.zip', 'r') as zipOBJ:\n",
        "  zipOBJ.extractall('ML_Dataset')"
      ],
      "metadata": {
        "id": "BwWfEpb9z_6D"
      },
      "execution_count": 34,
      "outputs": []
    },
    {
      "cell_type": "code",
      "source": [
        "data_path = '/content/ML_Dataset/CNN_dataset'"
      ],
      "metadata": {
        "id": "XCaOv2cfz_8e"
      },
      "execution_count": 35,
      "outputs": []
    },
    {
      "cell_type": "code",
      "source": [
        "img_datagen = ImageDataGenerator(rescale=1./225,\n",
        "                                 shear_range=0.4, \n",
        "                                 zoom_range=0.4,\n",
        "                                 width_shift_range=0.2,\n",
        "                                 height_shift_range=0.2,\n",
        "                                 horizontal_flip=True,\n",
        "                                 vertical_flip=True,\n",
        "                                 validation_split=0.2)\n",
        "\n",
        "training_dataset = img_datagen.flow_from_directory(\n",
        "                                          directory=data_path, \n",
        "                                          target_size=(64, 64), \n",
        "                                          shuffle=True,\n",
        "                                          batch_size=32, \n",
        "                                          subset='training',\n",
        "                                          class_mode='categorical')\n",
        "\n",
        "validation_dataset = img_datagen.flow_from_directory(\n",
        "                                          directory=data_path, \n",
        "                                          target_size=(64, 64), \n",
        "                                          shuffle=True,\n",
        "                                          batch_size=32, \n",
        "                                          subset='validation',\n",
        "                                          class_mode='categorical')"
      ],
      "metadata": {
        "colab": {
          "base_uri": "https://localhost:8080/"
        },
        "id": "LncrouaMz__l",
        "outputId": "c68f6865-e149-448e-a278-c208ba3c1181"
      },
      "execution_count": 36,
      "outputs": [
        {
          "output_type": "stream",
          "name": "stdout",
          "text": [
            "Found 40000 images belonging to 5 classes.\n",
            "Found 10000 images belonging to 5 classes.\n"
          ]
        }
      ]
    },
    {
      "cell_type": "code",
      "source": [
        "model = Sequential()\n",
        "model.add(Convolution2D(32, kernel_size=(2, 2), input_shape=(64, 64, 3), activation='relu'))\n",
        "model.add(MaxPool2D(pool_size=(2, 2)))\n",
        "model.add(Convolution2D(64, kernel_size=(2, 2), activation='relu'))\n",
        "model.add(MaxPool2D(pool_size=(2, 2)))\n",
        "model.add(Convolution2D(64, kernel_size=(2, 2), activation='relu'))\n",
        "model.add(Flatten())\n",
        "model.add(Dense(64, activation='relu'))\n",
        "model.add(Dense(5, activation='softmax'))\n",
        "model.summary()"
      ],
      "metadata": {
        "colab": {
          "base_uri": "https://localhost:8080/"
        },
        "id": "h7hCk8Mh2FX-",
        "outputId": "5facaf74-c951-4bb0-a69a-4bf355ae1608"
      },
      "execution_count": 37,
      "outputs": [
        {
          "output_type": "stream",
          "name": "stdout",
          "text": [
            "Model: \"sequential_1\"\n",
            "_________________________________________________________________\n",
            " Layer (type)                Output Shape              Param #   \n",
            "=================================================================\n",
            " conv2d_3 (Conv2D)           (None, 63, 63, 32)        416       \n",
            "                                                                 \n",
            " max_pooling2d_3 (MaxPooling  (None, 31, 31, 32)       0         \n",
            " 2D)                                                             \n",
            "                                                                 \n",
            " conv2d_4 (Conv2D)           (None, 30, 30, 64)        8256      \n",
            "                                                                 \n",
            " max_pooling2d_4 (MaxPooling  (None, 15, 15, 64)       0         \n",
            " 2D)                                                             \n",
            "                                                                 \n",
            " conv2d_5 (Conv2D)           (None, 14, 14, 64)        16448     \n",
            "                                                                 \n",
            " flatten_1 (Flatten)         (None, 12544)             0         \n",
            "                                                                 \n",
            " dense_2 (Dense)             (None, 64)                802880    \n",
            "                                                                 \n",
            " dense_3 (Dense)             (None, 5)                 325       \n",
            "                                                                 \n",
            "=================================================================\n",
            "Total params: 828,325\n",
            "Trainable params: 828,325\n",
            "Non-trainable params: 0\n",
            "_________________________________________________________________\n"
          ]
        }
      ]
    },
    {
      "cell_type": "code",
      "source": [
        "model.compile(loss='categorical_crossentropy', optimizer='adam', metrics=['accuracy'])"
      ],
      "metadata": {
        "id": "DuNyukni2GAt"
      },
      "execution_count": 38,
      "outputs": []
    },
    {
      "cell_type": "code",
      "source": [
        "history = model.fit(training_dataset, epochs=5, validation_data=validation_dataset)"
      ],
      "metadata": {
        "colab": {
          "base_uri": "https://localhost:8080/"
        },
        "id": "CWir7-5H2GDN",
        "outputId": "14165a18-66e4-4ff8-f0c5-a53b9d4f6dd4"
      },
      "execution_count": 39,
      "outputs": [
        {
          "output_type": "stream",
          "name": "stdout",
          "text": [
            "Epoch 1/5\n",
            "1250/1250 [==============================] - 90s 70ms/step - loss: 0.1616 - accuracy: 0.9398 - val_loss: 0.0670 - val_accuracy: 0.9758\n",
            "Epoch 2/5\n",
            "1250/1250 [==============================] - 85s 68ms/step - loss: 0.0514 - accuracy: 0.9825 - val_loss: 0.0356 - val_accuracy: 0.9873\n",
            "Epoch 3/5\n",
            "1250/1250 [==============================] - 83s 67ms/step - loss: 0.0295 - accuracy: 0.9893 - val_loss: 0.0349 - val_accuracy: 0.9886\n",
            "Epoch 4/5\n",
            "1250/1250 [==============================] - 84s 67ms/step - loss: 0.0318 - accuracy: 0.9894 - val_loss: 0.0179 - val_accuracy: 0.9941\n",
            "Epoch 5/5\n",
            "1250/1250 [==============================] - 86s 69ms/step - loss: 0.0164 - accuracy: 0.9943 - val_loss: 0.0232 - val_accuracy: 0.9920\n"
          ]
        }
      ]
    },
    {
      "cell_type": "code",
      "source": [
        "acc = history.history['accuracy']\n",
        "val_acc = history.history['val_accuracy']\n",
        "loss = history.history['loss']\n",
        "val_loss = history.history['val_loss']\n",
        "\n",
        "epochs = range(1, len(acc) + 1)\n",
        "\n",
        "plt.plot(epochs, acc, 'bo',label='Training acc')\n",
        "plt.plot(epochs, val_acc, 'g', label='Validation acc')\n",
        "plt.title('Training and validation accuracy')\n",
        "plt.legend()\n",
        "plt.figure()\n",
        "\n",
        "plt.plot(epochs, loss, 'bo', label='Training loss')\n",
        "plt.plot(epochs, val_loss, 'g', label='Validation loss')\n",
        "plt.title('Training and validation loss')\n",
        "plt.legend()\n",
        "plt.show()"
      ],
      "metadata": {
        "colab": {
          "base_uri": "https://localhost:8080/",
          "height": 545
        },
        "id": "nWE1c66b2vjX",
        "outputId": "408b6df7-9d86-468e-e799-d1150f0573e2"
      },
      "execution_count": 54,
      "outputs": [
        {
          "output_type": "display_data",
          "data": {
            "text/plain": [
              "<Figure size 432x288 with 1 Axes>"
            ],
            "image/png": "[encoded data removed]"
          },
          "metadata": {
            "needs_background": "light"
          }
        },
        {
          "output_type": "display_data",
          "data": {
            "text/plain": [
              "<Figure size 432x288 with 1 Axes>"
            ],
            "image/png": "[encoded data removed]"
          },
          "metadata": {
            "needs_background": "light"
          }
        }
      ]
    }
  ]
}